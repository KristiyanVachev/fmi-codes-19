{
 "cells": [
  {
   "cell_type": "code",
   "execution_count": 1,
   "metadata": {},
   "outputs": [],
   "source": [
    "import pandas as pd"
   ]
  },
  {
   "cell_type": "code",
   "execution_count": 2,
   "metadata": {},
   "outputs": [],
   "source": [
    "import _pickle as cPickle\n",
    "from pathlib import Path\n",
    "\n",
    "def dumpPickle(fileName, content):\n",
    "    pickleFile = open(fileName, 'wb')\n",
    "    cPickle.dump(content, pickleFile, -1)\n",
    "    pickleFile.close()\n",
    "\n",
    "def loadPickle(fileName):    \n",
    "    file = open(fileName, 'rb')\n",
    "    content = cPickle.load(file)\n",
    "    file.close()\n",
    "    \n",
    "    return content\n",
    "    \n",
    "def pickleExists(fileName):\n",
    "    file = Path(fileName)\n",
    "    \n",
    "    if file.is_file():\n",
    "        return True\n",
    "    \n",
    "    return False"
   ]
  },
  {
   "cell_type": "code",
   "execution_count": 3,
   "metadata": {},
   "outputs": [],
   "source": [
    "from IPython.display import Markdown, display, clear_output\n",
    "\n",
    "def printBold(string):\n",
    "    display(Markdown('**' + string + '**'))\n"
   ]
  },
  {
   "cell_type": "markdown",
   "metadata": {},
   "source": [
    "## Parsing text "
   ]
  },
  {
   "cell_type": "code",
   "execution_count": 4,
   "metadata": {},
   "outputs": [],
   "source": [
    "import spacy\n",
    "from spacy import displacy\n",
    "nlp = spacy.load('en_core_web_md')\n",
    "\n",
    "#There seems to be a bug with spacy's stop words.\n",
    "from spacy.lang.en.stop_words import STOP_WORDS\n",
    "for word in STOP_WORDS:\n",
    "    for w in (word, word[0].capitalize(), word.upper()):\n",
    "        lex = nlp.vocab[w]\n",
    "        lex.is_stop = True\n",
    "        \n",
    "#Extract answers and the sentence they are in\n",
    "def extractAnswers(qas, doc):\n",
    "    answers = []\n",
    "\n",
    "    senStart = 0\n",
    "    senId = 0\n",
    "\n",
    "    for sentence in doc.sents:\n",
    "        senLen = len(sentence.text)\n",
    "\n",
    "        for answer in qas:\n",
    "            answerStart = answer['answers'][0]['answer_start']\n",
    "\n",
    "            if (answerStart >= senStart and answerStart < (senStart + senLen)):\n",
    "                answers.append({'sentenceId': senId, 'text': answer['answers'][0]['text']})\n",
    "\n",
    "        senStart += senLen\n",
    "        senId += 1\n",
    "    \n",
    "    return answers\n",
    "\n",
    "#TODO - Clean answers from stopwords?\n",
    "def tokenIsAnswer(token, sentenceId, answers):\n",
    "    for i in range(len(answers)):\n",
    "        if (answers[i]['sentenceId'] == sentenceId):\n",
    "            if (answers[i]['text'] == token):\n",
    "                return True\n",
    "    return False\n",
    "\n",
    "#Save named entities start points\n",
    "\n",
    "def getNEStartIndexs(doc):\n",
    "    neStarts = {}\n",
    "    for ne in doc.ents:\n",
    "        neStarts[ne.start] = ne\n",
    "        \n",
    "    return neStarts \n",
    "\n",
    "def getSentenceStartIndexes(doc):\n",
    "    senStarts = []\n",
    "    \n",
    "    for sentence in doc.sents:\n",
    "        senStarts.append(sentence[0].i)\n",
    "    \n",
    "    return senStarts\n",
    "    \n",
    "def getSentenceForWordPosition(wordPos, senStarts):\n",
    "    for i in range(1, len(senStarts)):\n",
    "        if (wordPos < senStarts[i]):\n",
    "            return i - 1\n",
    "        \n",
    "def addWordsForParagrapgh(newWords, text):\n",
    "    doc = nlp(text)\n",
    "\n",
    "    neStarts = getNEStartIndexs(doc)\n",
    "    senStarts = getSentenceStartIndexes(doc)\n",
    "    \n",
    "    #index of word in spacy doc text\n",
    "    i = 0\n",
    "    \n",
    "    while (i < len(doc)):\n",
    "        #If the token is a start of a Named Entity, add it and push to index to end of the NE\n",
    "        if (i in neStarts):\n",
    "            word = neStarts[i]\n",
    "            #add word\n",
    "            currentSentence = getSentenceForWordPosition(word.start, senStarts)\n",
    "            wordLen = word.end - word.start\n",
    "            shape = ''\n",
    "            for wordIndex in range(word.start, word.end):\n",
    "                shape += (' ' + doc[wordIndex].shape_)\n",
    "\n",
    "            newWords.append([word.text,\n",
    "                            0,\n",
    "                            0,\n",
    "                            currentSentence,\n",
    "                            wordLen,\n",
    "                            word.label_,\n",
    "                            None,\n",
    "                            None,\n",
    "                            None,\n",
    "                            shape])\n",
    "            i = neStarts[i].end - 1\n",
    "        #If not a NE, add the word if it's not a stopword or a non-alpha (not regular letters)\n",
    "        else:\n",
    "            if (doc[i].is_stop == False and doc[i].is_alpha == True):\n",
    "                word = doc[i]\n",
    "\n",
    "                currentSentence = getSentenceForWordPosition(i, senStarts)\n",
    "                wordLen = 1\n",
    "\n",
    "                newWords.append([word.text,\n",
    "                                0,\n",
    "                                0,\n",
    "                                currentSentence,\n",
    "                                wordLen,\n",
    "                                None,\n",
    "                                word.pos_,\n",
    "                                word.tag_,\n",
    "                                word.dep_,\n",
    "                                word.shape_])\n",
    "        i += 1\n",
    "\n",
    "def oneHotEncodeColumns(df):\n",
    "    columnsToEncode = ['NER', 'POS', \"TAG\", 'DEP']\n",
    "\n",
    "    for column in columnsToEncode:\n",
    "        one_hot = pd.get_dummies(df[column])\n",
    "        one_hot = one_hot.add_prefix(column + '_')\n",
    "\n",
    "        df = df.drop(column, axis = 1)\n",
    "        df = df.join(one_hot)\n",
    "    \n",
    "    return df"
   ]
  },
  {
   "cell_type": "code",
   "execution_count": 5,
   "metadata": {},
   "outputs": [],
   "source": [
    "def generateDf(text):\n",
    "    words = []\n",
    "    addWordsForParagrapgh(words, text)\n",
    "\n",
    "    wordColums = ['text', 'titleId', 'paragrapghId', 'sentenceId','wordCount', 'NER', 'POS', 'TAG', 'DEP','shape']\n",
    "    df = pd.DataFrame(words, columns=wordColums)\n",
    "    \n",
    "    return df"
   ]
  },
  {
   "cell_type": "code",
   "execution_count": 6,
   "metadata": {},
   "outputs": [],
   "source": [
    "def prepareDf(df):\n",
    "    #One-hot encoding\n",
    "    wordsDf = oneHotEncodeColumns(df)\n",
    "\n",
    "    #Drop unused columns\n",
    "    columnsToDrop = ['text', 'titleId', 'paragrapghId', 'sentenceId', 'shape']\n",
    "    wordsDf = wordsDf.drop(columnsToDrop, axis = 1)\n",
    "\n",
    "    #Add missing colums \n",
    "    predictorColumns = ['wordCount','NER_CARDINAL','NER_DATE','NER_EVENT','NER_FAC','NER_GPE','NER_LANGUAGE','NER_LAW','NER_LOC','NER_MONEY','NER_NORP','NER_ORDINAL','NER_ORG','NER_PERCENT','NER_PERSON','NER_PRODUCT','NER_QUANTITY','NER_TIME','NER_WORK_OF_ART','POS_ADJ','POS_ADP','POS_ADV','POS_CCONJ','POS_DET','POS_INTJ','POS_NOUN','POS_NUM','POS_PART','POS_PRON','POS_PROPN','POS_PUNCT','POS_SYM','POS_VERB','POS_X','TAG_''','TAG_-LRB-','TAG_.','TAG_ADD','TAG_AFX','TAG_CC','TAG_CD','TAG_DT','TAG_EX','TAG_FW','TAG_IN','TAG_JJ','TAG_JJR','TAG_JJS','TAG_LS','TAG_MD','TAG_NFP','TAG_NN','TAG_NNP','TAG_NNPS','TAG_NNS','TAG_PDT','TAG_POS','TAG_PRP','TAG_PRP$','TAG_RB','TAG_RBR','TAG_RBS','TAG_RP','TAG_SYM','TAG_TO','TAG_UH','TAG_VB','TAG_VBD','TAG_VBG','TAG_VBN','TAG_VBP','TAG_VBZ','TAG_WDT','TAG_WP','TAG_WRB','TAG_XX','DEP_ROOT','DEP_acl','DEP_acomp','DEP_advcl','DEP_advmod','DEP_agent','DEP_amod','DEP_appos','DEP_attr','DEP_aux','DEP_auxpass','DEP_case','DEP_cc','DEP_ccomp','DEP_compound','DEP_conj','DEP_csubj','DEP_csubjpass','DEP_dative','DEP_dep','DEP_det','DEP_dobj','DEP_expl','DEP_intj','DEP_mark','DEP_meta','DEP_neg','DEP_nmod','DEP_npadvmod','DEP_nsubj','DEP_nsubjpass','DEP_nummod','DEP_oprd','DEP_parataxis','DEP_pcomp','DEP_pobj','DEP_poss','DEP_preconj','DEP_predet','DEP_prep','DEP_prt','DEP_punct','DEP_quantmod','DEP_relcl','DEP_xcomp']\n",
    "\n",
    "    for feature in predictorColumns:\n",
    "        if feature not in wordsDf.columns:\n",
    "            wordsDf[feature] = 0\n",
    "    \n",
    "    return wordsDf"
   ]
  },
  {
   "cell_type": "code",
   "execution_count": 7,
   "metadata": {},
   "outputs": [],
   "source": [
    "def predictWords(wordsDf, df):\n",
    "    \n",
    "    predictorPickleName = 'pickles/predictor-spacy-features.pkl'\n",
    "    predictor = loadPickle(predictorPickleName)\n",
    "    \n",
    "    y_pred = predictor.predict_proba(wordsDf)\n",
    "\n",
    "    labeledAnswers = []\n",
    "    for i in range(len(y_pred)):\n",
    "        labeledAnswers.append({'word': df.iloc[i]['text'], 'prob': y_pred[i][0]})\n",
    "    \n",
    "    return labeledAnswers"
   ]
  },
  {
   "cell_type": "code",
   "execution_count": 8,
   "metadata": {},
   "outputs": [],
   "source": [
    "def blankAnswer(firstTokenIndex, lastTokenIndex, sentStart, sentEnd, doc):\n",
    "    leftPartStart = doc[sentStart].idx\n",
    "    leftPartEnd = doc[firstTokenIndex].idx\n",
    "    rightPartStart = doc[lastTokenIndex].idx + len(doc[lastTokenIndex])\n",
    "    rightPartEnd = doc[sentEnd - 1].idx + len(doc[sentEnd - 1])\n",
    "    \n",
    "    question = doc.text[leftPartStart:leftPartEnd] + '_____' + doc.text[rightPartStart:rightPartEnd]\n",
    "    \n",
    "    return question\n",
    "    \n",
    "    \n",
    "   #for i in range(sentEnd - sentStart):\n",
    "   #    if sentStart + i != tokenIndex\n",
    "   #    print(doc[13 + i])\n",
    "   #"
   ]
  },
  {
   "cell_type": "code",
   "execution_count": 9,
   "metadata": {},
   "outputs": [],
   "source": [
    "def addQuestions(answers, text):\n",
    "    doc = nlp(text)\n",
    "    currAnswerIndex = 0\n",
    "    qaPair = []\n",
    "\n",
    "    #Check wheter each token is the next answer\n",
    "    for sent in doc.sents:\n",
    "        for token in sent:\n",
    "            \n",
    "            #If all the answers have been found, stop looking\n",
    "            if currAnswerIndex >= len(answers):\n",
    "                break\n",
    "            \n",
    "            #In the case where the answer is consisted of more than one token, check the following tokens as well.\n",
    "            answerDoc = nlp(answers[currAnswerIndex]['word'])\n",
    "            answerIsFound = True\n",
    "            \n",
    "            for j in range(len(answerDoc)):\n",
    "                if token.i + j >= len(doc) or doc[token.i + j].text != answerDoc[j].text:\n",
    "                    answerIsFound = False\n",
    "           \n",
    "            #If the current token is corresponding with the answer, add it \n",
    "            if answerIsFound:\n",
    "                question = blankAnswer(token.i, token.i + len(answerDoc) - 1, sent.start, sent.end, doc)\n",
    "                \n",
    "                qaPair.append({'question' : question, 'answer': answers[currAnswerIndex]['word'], 'prob': answers[currAnswerIndex]['prob']})\n",
    "                \n",
    "                currAnswerIndex += 1\n",
    "                \n",
    "    return qaPair"
   ]
  },
  {
   "cell_type": "code",
   "execution_count": 10,
   "metadata": {},
   "outputs": [],
   "source": [
    "def sortAnswers(qaPairs):\n",
    "    orderedQaPairs = sorted(qaPairs, key=lambda qaPair: qaPair['prob'])\n",
    "    \n",
    "    return orderedQaPairs    "
   ]
  },
  {
   "cell_type": "code",
   "execution_count": 11,
   "metadata": {},
   "outputs": [],
   "source": [
    "import gensim\n",
    "from gensim.test.utils import datapath, get_tmpfile\n",
    "from gensim.models import KeyedVectors\n",
    "\n",
    "glove_file = 'data\\embeddings\\glove.6B.300d.txt'\n",
    "tmp_file = \"data\\embeddings\\word2vec-glove.6B.300d.txt\"\n",
    "\n",
    "from gensim.scripts.glove2word2vec import glove2word2vec\n",
    "glove2word2vec(glove_file, tmp_file)\n",
    "model = KeyedVectors.load_word2vec_format(tmp_file)"
   ]
  },
  {
   "cell_type": "code",
   "execution_count": 12,
   "metadata": {},
   "outputs": [],
   "source": [
    "def generateDistractors(sentence, answer, count):\n",
    "    answer = str.lower(answer)\n",
    "    \n",
    "    ##Extracting closest words for the answer. \n",
    "    try:\n",
    "        closestWords = model.most_similar(positive=[answer], topn=count)\n",
    "    except:\n",
    "        #In case the word is not in the vocabulary, or other problem not loading embeddings\n",
    "        return []\n",
    "\n",
    "    #Return count many distractors\n",
    "    distractors = []\n",
    "    for i in range(count):\n",
    "        if i >= len(closestWords):\n",
    "            break\n",
    "            \n",
    "        distractors.append(closestWords[i][0])\n",
    "        \n",
    "    return distractors"
   ]
  },
  {
   "cell_type": "code",
   "execution_count": 13,
   "metadata": {},
   "outputs": [
    {
     "data": {
      "text/plain": [
       "['probo', 'koalas', 'orangutan', 'grizzly', 'marsupial']"
      ]
     },
     "execution_count": 13,
     "metadata": {},
     "output_type": "execute_result"
    }
   ],
   "source": [
    "generateDistractors(\"Koala is cool\", \"Koala\", 5)"
   ]
  },
  {
   "cell_type": "code",
   "execution_count": 14,
   "metadata": {},
   "outputs": [],
   "source": [
    "def addDistractors(qaPairs, count):\n",
    "    for qaPair in qaPairs:\n",
    "        distractors = generateDistractors(qaPair['question'], qaPair['answer'], count)\n",
    "        qaPair['distractors'] = distractors\n",
    "    \n",
    "    return qaPairs"
   ]
  },
  {
   "cell_type": "code",
   "execution_count": 15,
   "metadata": {},
   "outputs": [],
   "source": [
    "def generateQuestions(text, count, isTest):\n",
    "    \n",
    "    df = generateDf(text)\n",
    "    wordsDf = prepareDf(df)\n",
    "    labeledAnswers = predictWords(wordsDf, df)\n",
    "    qaPairs = addQuestions(labeledAnswers, text)\n",
    "    orderedQaPairs = sortAnswers(qaPairs)\n",
    "    questions = addDistractors(orderedQaPairs[:count], 4)\n",
    "\n",
    "    for i in range(count):\n",
    "        display(Markdown('### Question ' + str(i + 1) + ':'))\n",
    "        print(questions[i]['question'])\n",
    "        if isTest:\n",
    "            answers = questions[i]['distractors']\n",
    "            answers.append(questions[i]['answer'])\n",
    "            \n",
    "            display(Markdown('#### Answers:'))\n",
    "            for answer in sorted(answers):\n",
    "                print(str.lower(answer))\n",
    "                \n",
    "            print()\n",
    "            print()\n",
    "            print()\n",
    "            print()\n",
    "            print()\n",
    "            print()\n",
    "            print()\n",
    "            display(Markdown('~~<sub>' + questions[i]['answer'][::-1] + '<sub>~~'))\n",
    "        else:\n",
    "            display(Markdown('#### Answer:'))\n",
    "            print(questions[i]['answer'])\n",
    "            display(Markdown('#### Incorrect answers:'))\n",
    "            for distractor in questions[i]['distractors']:\n",
    "                print(distractor)"
   ]
  },
  {
   "cell_type": "code",
   "execution_count": 16,
   "metadata": {},
   "outputs": [
    {
     "data": {
      "text/markdown": [
       "### Question 1:"
      ],
      "text/plain": [
       "<IPython.core.display.Markdown object>"
      ]
     },
     "metadata": {},
     "output_type": "display_data"
    },
    {
     "name": "stdout",
     "output_type": "stream",
     "text": [
      "At standard temperature and pressure, two _____ of the element bind to form dioxygen, a colorless and odorless diatomic gas with the formula O2.\n"
     ]
    },
    {
     "data": {
      "text/markdown": [
       "#### Answer:"
      ],
      "text/plain": [
       "<IPython.core.display.Markdown object>"
      ]
     },
     "metadata": {},
     "output_type": "display_data"
    },
    {
     "name": "stdout",
     "output_type": "stream",
     "text": [
      "atoms\n"
     ]
    },
    {
     "data": {
      "text/markdown": [
       "#### Incorrect answers:"
      ],
      "text/plain": [
       "<IPython.core.display.Markdown object>"
      ]
     },
     "metadata": {},
     "output_type": "display_data"
    },
    {
     "name": "stdout",
     "output_type": "stream",
     "text": [
      "molecules\n",
      "electrons\n",
      "ions\n",
      "atom\n"
     ]
    },
    {
     "data": {
      "text/markdown": [
       "### Question 2:"
      ],
      "text/plain": [
       "<IPython.core.display.Markdown object>"
      ]
     },
     "metadata": {},
     "output_type": "display_data"
    },
    {
     "name": "stdout",
     "output_type": "stream",
     "text": [
      "Oxygen is a chemical _____ with symbol O and atomic number 8.\n"
     ]
    },
    {
     "data": {
      "text/markdown": [
       "#### Answer:"
      ],
      "text/plain": [
       "<IPython.core.display.Markdown object>"
      ]
     },
     "metadata": {},
     "output_type": "display_data"
    },
    {
     "name": "stdout",
     "output_type": "stream",
     "text": [
      "element\n"
     ]
    },
    {
     "data": {
      "text/markdown": [
       "#### Incorrect answers:"
      ],
      "text/plain": [
       "<IPython.core.display.Markdown object>"
      ]
     },
     "metadata": {},
     "output_type": "display_data"
    },
    {
     "name": "stdout",
     "output_type": "stream",
     "text": [
      "elements\n",
      "component\n",
      "aspect\n",
      "dimension\n"
     ]
    },
    {
     "data": {
      "text/markdown": [
       "### Question 3:"
      ],
      "text/plain": [
       "<IPython.core.display.Markdown object>"
      ]
     },
     "metadata": {},
     "output_type": "display_data"
    },
    {
     "name": "stdout",
     "output_type": "stream",
     "text": [
      "It is a _____ of the chalcogen group on the periodic table, a highly reactive nonmetal, and an oxidizing agent that readily forms oxides with most elements as well as with other compounds.\n"
     ]
    },
    {
     "data": {
      "text/markdown": [
       "#### Answer:"
      ],
      "text/plain": [
       "<IPython.core.display.Markdown object>"
      ]
     },
     "metadata": {},
     "output_type": "display_data"
    },
    {
     "name": "stdout",
     "output_type": "stream",
     "text": [
      "member\n"
     ]
    },
    {
     "data": {
      "text/markdown": [
       "#### Incorrect answers:"
      ],
      "text/plain": [
       "<IPython.core.display.Markdown object>"
      ]
     },
     "metadata": {},
     "output_type": "display_data"
    },
    {
     "name": "stdout",
     "output_type": "stream",
     "text": [
      "members\n",
      "elected\n",
      "committee\n",
      "council\n"
     ]
    },
    {
     "data": {
      "text/markdown": [
       "### Question 4:"
      ],
      "text/plain": [
       "<IPython.core.display.Markdown object>"
      ]
     },
     "metadata": {},
     "output_type": "display_data"
    },
    {
     "name": "stdout",
     "output_type": "stream",
     "text": [
      "By mass, oxygen is the third-most abundant _____ in the universe, after hydrogen and helium.\n"
     ]
    },
    {
     "data": {
      "text/markdown": [
       "#### Answer:"
      ],
      "text/plain": [
       "<IPython.core.display.Markdown object>"
      ]
     },
     "metadata": {},
     "output_type": "display_data"
    },
    {
     "name": "stdout",
     "output_type": "stream",
     "text": [
      "element\n"
     ]
    },
    {
     "data": {
      "text/markdown": [
       "#### Incorrect answers:"
      ],
      "text/plain": [
       "<IPython.core.display.Markdown object>"
      ]
     },
     "metadata": {},
     "output_type": "display_data"
    },
    {
     "name": "stdout",
     "output_type": "stream",
     "text": [
      "elements\n",
      "component\n",
      "aspect\n",
      "dimension\n"
     ]
    },
    {
     "data": {
      "text/markdown": [
       "### Question 5:"
      ],
      "text/plain": [
       "<IPython.core.display.Markdown object>"
      ]
     },
     "metadata": {},
     "output_type": "display_data"
    },
    {
     "name": "stdout",
     "output_type": "stream",
     "text": [
      "By mass, _____ is the third-most abundant element in the universe, after hydrogen and helium.\n"
     ]
    },
    {
     "data": {
      "text/markdown": [
       "#### Answer:"
      ],
      "text/plain": [
       "<IPython.core.display.Markdown object>"
      ]
     },
     "metadata": {},
     "output_type": "display_data"
    },
    {
     "name": "stdout",
     "output_type": "stream",
     "text": [
      "oxygen\n"
     ]
    },
    {
     "data": {
      "text/markdown": [
       "#### Incorrect answers:"
      ],
      "text/plain": [
       "<IPython.core.display.Markdown object>"
      ]
     },
     "metadata": {},
     "output_type": "display_data"
    },
    {
     "name": "stdout",
     "output_type": "stream",
     "text": [
      "hydrogen\n",
      "nitrogen\n",
      "helium\n",
      "nutrients\n"
     ]
    }
   ],
   "source": [
    "text = \"Oxygen is a chemical element with symbol O and atomic number 8. It is a member of the chalcogen group on the periodic table, a highly reactive nonmetal, and an oxidizing agent that readily forms oxides with most elements as well as with other compounds. By mass, oxygen is the third-most abundant element in the universe, after hydrogen and helium. At standard temperature and pressure, two atoms of the element bind to form dioxygen, a colorless and odorless diatomic gas with the formula O2. Diatomic oxygen gas constitutes 20.8% of the Earth's atmosphere. As compounds including oxides, the element makes up almost half of the Earth's crust.\"\n",
    "\n",
    "generateQuestions(text, 5, False)"
   ]
  },
  {
   "cell_type": "code",
   "execution_count": 27,
   "metadata": {},
   "outputs": [],
   "source": [
    "def addQuestionsJson(answers, text):\n",
    "    doc = nlp(text)\n",
    "    currAnswerIndex = 0\n",
    "    qaPair = []\n",
    "\n",
    "    #Check wheter each token is the next answer\n",
    "    for sent in doc.sents:\n",
    "        for token in sent:\n",
    "            \n",
    "            #If all the answers have been found, stop looking\n",
    "            if currAnswerIndex >= len(answers):\n",
    "                break\n",
    "            \n",
    "            #In the case where the answer is consisted of more than one token, check the following tokens as well.\n",
    "            answerDoc = nlp(answers[currAnswerIndex]['word'])\n",
    "            answerIsFound = True\n",
    "            \n",
    "            for j in range(len(answerDoc)):\n",
    "                if token.i + j >= len(doc) or doc[token.i + j].text != answerDoc[j].text:\n",
    "                    answerIsFound = False\n",
    "           \n",
    "            #If the current token is corresponding with the answer, add it \n",
    "            if answerIsFound:\n",
    "                #question = blankAnswerJson(token.i, token.i + len(answerDoc) - 1, sent.start, sent.end, doc)\n",
    "                \n",
    "                leftPartStart = doc[sent.start].idx\n",
    "                rightPartEnd = doc[sent.end - 1].idx + len(doc[sent.end - 1])\n",
    "                sentence = doc.text[leftPartStart:rightPartEnd]\n",
    "                \n",
    "                \n",
    "                qaPair.append({'question' : sentence,\n",
    "                               'answer': answers[currAnswerIndex]['word'], \n",
    "                               'prob': answers[currAnswerIndex]['prob'], \n",
    "                               'startIndex': doc[token.i].idx - leftPartStart})\n",
    "                \n",
    "                currAnswerIndex += 1\n",
    "                \n",
    "    return qaPair"
   ]
  },
  {
   "cell_type": "code",
   "execution_count": 18,
   "metadata": {},
   "outputs": [],
   "source": [
    "def groupSentences(qaPairs):\n",
    "    sentences = {}\n",
    "    json = []\n",
    "    \n",
    "    for qaPair in qaPairs:\n",
    "        sentences[qaPair['question']] = {'text': qaPair['question'], 'answers': []}\n",
    "        \n",
    "    for qaPair in qaPairs:\n",
    "        sentences[qaPair['question']]['answers'].append({'correct': qaPair['answer'], 'startIndex': qaPair['startIndex'], 'confidence': qaPair['prob'], 'distractors': qaPair['distractors']}) \n",
    "        \n",
    "    for sentence in sentences:\n",
    "        json.append(sentences[sentence])\n",
    "        \n",
    "    return json"
   ]
  },
  {
   "cell_type": "code",
   "execution_count": 25,
   "metadata": {},
   "outputs": [],
   "source": [
    "def generateJson(text, count):\n",
    "    \n",
    "    df = generateDf(text)\n",
    "    wordsDf = prepareDf(df)\n",
    "    labeledAnswers = predictWords(wordsDf, df)\n",
    "    qaPairs = addQuestionsJson(labeledAnswers, text)\n",
    "    orderedQaPairs = sortAnswers(qaPairs)\n",
    "    questions = addDistractors(orderedQaPairs[:count], 4)\n",
    "    sentences = groupSentences(questions)\n",
    "\n",
    "    return sentences"
   ]
  },
  {
   "cell_type": "code",
   "execution_count": 28,
   "metadata": {},
   "outputs": [
    {
     "data": {
      "text/plain": [
       "[{'text': 'At standard temperature and pressure, two atoms of the element bind to form dioxygen, a colorless and odorless diatomic gas with the formula O2.',\n",
       "  'answers': [{'correct': 'atoms',\n",
       "    'startIndex': 42,\n",
       "    'confidence': 0.0,\n",
       "    'distractors': ['molecules', 'electrons', 'ions', 'atom']},\n",
       "   {'correct': 'bind',\n",
       "    'startIndex': 63,\n",
       "    'confidence': 1.3478902193727544e-219,\n",
       "    'distractors': ['binds', 'binding', 'proteins', 'molecules']},\n",
       "   {'correct': 'two',\n",
       "    'startIndex': 38,\n",
       "    'confidence': 3.235488940537157e-114,\n",
       "    'distractors': ['three', 'four', 'five', 'six']},\n",
       "   {'correct': 'form',\n",
       "    'startIndex': 71,\n",
       "    'confidence': 1.0310724282881944e-94,\n",
       "    'distractors': ['forms', 'forming', 'formed', 'which']}]},\n",
       " {'text': 'Oxygen is a chemical element with symbol O and atomic number 8.',\n",
       "  'answers': [{'correct': 'element',\n",
       "    'startIndex': 21,\n",
       "    'confidence': 2.6397652324234365e-272,\n",
       "    'distractors': ['elements', 'component', 'aspect', 'dimension']},\n",
       "   {'correct': 'Oxygen',\n",
       "    'startIndex': 0,\n",
       "    'confidence': 5.0748927896877586e-154,\n",
       "    'distractors': ['hydrogen', 'nitrogen', 'helium', 'nutrients']},\n",
       "   {'correct': '8',\n",
       "    'startIndex': 61,\n",
       "    'confidence': 3.235488940537157e-114,\n",
       "    'distractors': ['9', '7', '6', '5']},\n",
       "   {'correct': 'chemical',\n",
       "    'startIndex': 12,\n",
       "    'confidence': 1.0,\n",
       "    'distractors': ['chemicals', 'biological', 'toxic', 'compounds']},\n",
       "   {'correct': 'symbol',\n",
       "    'startIndex': 34,\n",
       "    'confidence': 1.0,\n",
       "    'distractors': ['symbols', 'symbolizes', 'symbolized', 'symbolize']}]},\n",
       " {'text': 'It is a member of the chalcogen group on the periodic table, a highly reactive nonmetal, and an oxidizing agent that readily forms oxides with most elements as well as with other compounds.',\n",
       "  'answers': [{'correct': 'member',\n",
       "    'startIndex': 8,\n",
       "    'confidence': 2.6397652324234365e-272,\n",
       "    'distractors': ['members', 'elected', 'committee', 'council']},\n",
       "   {'correct': 'It',\n",
       "    'startIndex': 0,\n",
       "    'confidence': 2.1510738810095306e-142,\n",
       "    'distractors': ['this', 'but', 'so', 'that']}]},\n",
       " {'text': 'By mass, oxygen is the third-most abundant element in the universe, after hydrogen and helium.',\n",
       "  'answers': [{'correct': 'element',\n",
       "    'startIndex': 43,\n",
       "    'confidence': 2.6397652324234365e-272,\n",
       "    'distractors': ['elements', 'component', 'aspect', 'dimension']},\n",
       "   {'correct': 'oxygen',\n",
       "    'startIndex': 9,\n",
       "    'confidence': 3.319249817024912e-270,\n",
       "    'distractors': ['hydrogen', 'nitrogen', 'helium', 'nutrients']},\n",
       "   {'correct': 'third',\n",
       "    'startIndex': 23,\n",
       "    'confidence': 3.509073377627382e-151,\n",
       "    'distractors': ['second', 'fourth', 'fifth', 'sixth']}]},\n",
       " {'text': \"Diatomic oxygen gas constitutes 20.8% of the Earth's atmosphere.\",\n",
       "  'answers': [{'correct': 'gas',\n",
       "    'startIndex': 16,\n",
       "    'confidence': 3.319249817024912e-270,\n",
       "    'distractors': ['oil', 'gasoline', 'natural', 'fuel']},\n",
       "   {'correct': 'Earth',\n",
       "    'startIndex': 45,\n",
       "    'confidence': 1.6937676133988825e-111,\n",
       "    'distractors': ['planet', 'mars', 'planets', 'orbit']},\n",
       "   {'correct': '20.8%',\n",
       "    'startIndex': 32,\n",
       "    'confidence': 2.925588700811842e-108,\n",
       "    'distractors': []}]},\n",
       " {'text': \"As compounds including oxides, the element makes up almost half of the Earth's crust.\",\n",
       "  'answers': [{'correct': 'element',\n",
       "    'startIndex': 35,\n",
       "    'confidence': 3.319249817024912e-270,\n",
       "    'distractors': ['elements', 'component', 'aspect', 'dimension']},\n",
       "   {'correct': 'almost half',\n",
       "    'startIndex': 52,\n",
       "    'confidence': 1.228841582645787e-114,\n",
       "    'distractors': []},\n",
       "   {'correct': 'Earth',\n",
       "    'startIndex': 71,\n",
       "    'confidence': 1.6937676133988825e-111,\n",
       "    'distractors': ['planet', 'mars', 'planets', 'orbit']}]}]"
      ]
     },
     "execution_count": 28,
     "metadata": {},
     "output_type": "execute_result"
    }
   ],
   "source": [
    "text = \"Oxygen is a chemical element with symbol O and atomic number 8. It is a member of the chalcogen group on the periodic table, a highly reactive nonmetal, and an oxidizing agent that readily forms oxides with most elements as well as with other compounds. By mass, oxygen is the third-most abundant element in the universe, after hydrogen and helium. At standard temperature and pressure, two atoms of the element bind to form dioxygen, a colorless and odorless diatomic gas with the formula O2. Diatomic oxygen gas constitutes 20.8% of the Earth's atmosphere. As compounds including oxides, the element makes up almost half of the Earth's crust.\"\n",
    "\n",
    "generateJson(text, 20)"
   ]
  },
  {
   "cell_type": "markdown",
   "metadata": {},
   "source": [
    "### Web server"
   ]
  },
  {
   "cell_type": "code",
   "execution_count": null,
   "metadata": {},
   "outputs": [
    {
     "name": "stderr",
     "output_type": "stream",
     "text": [
      " * Running on http://localhost:9002/ (Press CTRL+C to quit)\n",
      "127.0.0.1 - - [24/Mar/2019 11:40:07] \"POST /generate?text=%22Oxygen%20is%20cool%22 HTTP/1.1\" 200 -\n",
      "127.0.0.1 - - [24/Mar/2019 11:41:54] \"POST /generate?text=Wikipedia%20%28/ˌwɪkɪˈpiːdiə/%20%28About%20this%20soundlisten%29,%20/ˌwɪkiˈpiːdiə/%20%28About%20this%20soundlisten%29%20WIK-ih-PEE-dee-ə%29%20is%20a%20multilingual,%20web-based,%20free%20encyclopedia%20based%20on%20a%20model%20of%20openly%20editable%20and%20viewable%20content,%20a%20wiki.%20It%20is%20the%20largest%20and%20most%20popular%20general%20reference%20work%20on%20the%20World%20Wide%20Web,[3][4][5]%20and%20is%20one%20of%20the%20most%20popular%20websites%20by%20Alexa%20rank.[6]%20It%20is%20owned%20and%20supported%20by%20the%20Wikimedia%20Foundation,%20a%20non-profit%20organization%20that%20operates%20on%20money%20it%20receives%20from%20donors.[7][8][9] HTTP/1.1\" 200 -\n"
     ]
    }
   ],
   "source": [
    "from werkzeug.wrappers import Request, Response\n",
    "from flask import Flask\n",
    "from flask import request\n",
    "\n",
    "app = Flask(__name__)\n",
    "\n",
    "@app.route(\"/\")\n",
    "def hello():\n",
    "    return ''.join(map(str, generateJson(text, 20)))\n",
    "\n",
    "@app.route(\"/generate\", methods=[\"POST\"])\n",
    "def test():\n",
    "    return ''.join(map(str, generateJson(request.args[\"text\"], 20)))\n",
    "\n",
    "if __name__ == '__main__':\n",
    "    from werkzeug.serving import run_simple\n",
    "    run_simple('localhost', 9002, app)"
   ]
  },
  {
   "cell_type": "code",
   "execution_count": null,
   "metadata": {},
   "outputs": [],
   "source": []
  }
 ],
 "metadata": {
  "kernelspec": {
   "display_name": "Python 3",
   "language": "python",
   "name": "python3"
  },
  "language_info": {
   "codemirror_mode": {
    "name": "ipython",
    "version": 3
   },
   "file_extension": ".py",
   "mimetype": "text/x-python",
   "name": "python",
   "nbconvert_exporter": "python",
   "pygments_lexer": "ipython3",
   "version": "3.7.2"
  }
 },
 "nbformat": 4,
 "nbformat_minor": 2
}
